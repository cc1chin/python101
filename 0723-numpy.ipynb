{
 "cells": [
  {
   "cell_type": "code",
   "execution_count": 1,
   "metadata": {},
   "outputs": [
    {
     "name": "stdout",
     "output_type": "stream",
     "text": [
      "Requirement already satisfied: numpy in c:\\users\\tku-staff\\anaconda3\\lib\\site-packages (1.26.4)\n",
      "Note: you may need to restart the kernel to use updated packages.\n"
     ]
    }
   ],
   "source": [
    "pip install numpy"
   ]
  },
  {
   "cell_type": "code",
   "execution_count": 2,
   "metadata": {},
   "outputs": [
    {
     "name": "stdout",
     "output_type": "stream",
     "text": [
      "[1 2 3 4]\n",
      "[5 6 7 8]\n",
      "<class 'numpy.ndarray'> <class 'numpy.ndarray'>\n"
     ]
    }
   ],
   "source": [
    "import numpy as np\n",
    "\n",
    "np1 = np.array([1,2,3,4])\n",
    "np2 = np.array((5,6,7,8))\n",
    "\n",
    "print(np1)\n",
    "print(np2)\n",
    "print(type(np1),type(np2))"
   ]
  },
  {
   "cell_type": "code",
   "execution_count": 12,
   "metadata": {},
   "outputs": [
    {
     "name": "stdout",
     "output_type": "stream",
     "text": [
      "[ 0  2  4  6  8 10 12 14 16 18 20 22 24 26 28 30] \n",
      "\n",
      "[ 1.  8. 15.] \n",
      "\n",
      "[0. 0. 0. 0. 0.] \n",
      "\n",
      "[1. 1. 1. 1. 1.] \n",
      "\n",
      "[[1. 1.]\n",
      " [1. 1.]\n",
      " [1. 1.]\n",
      " [1. 1.]\n",
      " [1. 1.]] \n",
      "\n"
     ]
    }
   ],
   "source": [
    "np3 = np.arange(0,31,2)\n",
    "print(np3,'\\n')\n",
    "\n",
    "np4 = np.linspace(1,15,3)\n",
    "print(np4,'\\n')\n",
    "\n",
    "np5 = np.zeros((5,))\n",
    "print(np5,'\\n')\n",
    "\n",
    "np6 = np.ones((5,))\n",
    "print(np6,'\\n')\n",
    "\n",
    "np7 = np.ones((5,2))\n",
    "print(np7,'\\n')"
   ]
  },
  {
   "cell_type": "code",
   "execution_count": 9,
   "metadata": {},
   "outputs": [
    {
     "name": "stdout",
     "output_type": "stream",
     "text": [
      "[[ 1  2  3  4  5]\n",
      " [ 6  7  8  9 10]]\n",
      "維度 2\n",
      "形狀 (2, 5)\n",
      "數量 10\n"
     ]
    }
   ],
   "source": [
    "listdata = [[1,2,3,4,5],[6,7,8,9,10]]\n",
    "\n",
    "np8 = np.array(listdata)\n",
    "print(np8)\n",
    "print('維度',np8.ndim)\n",
    "print('形狀',np8.shape)\n",
    "print('數量',np8.size)"
   ]
  },
  {
   "cell_type": "code",
   "execution_count": 14,
   "metadata": {},
   "outputs": [
    {
     "name": "stdout",
     "output_type": "stream",
     "text": [
      "[ 1  2  3  4  5  6  7  8  9 10 11 12 13 14 15 16 17 18 19 20] \n",
      "\n",
      "[[ 1  2  3  4  5]\n",
      " [ 6  7  8  9 10]\n",
      " [11 12 13 14 15]\n",
      " [16 17 18 19 20]]\n"
     ]
    }
   ],
   "source": [
    "np9 = np.arange(1,21)\n",
    "print(np9,'\\n')\n",
    "\n",
    "np10 = np9.reshape(4,5)\n",
    "print(np10)"
   ]
  },
  {
   "cell_type": "code",
   "execution_count": 16,
   "metadata": {},
   "outputs": [
    {
     "name": "stdout",
     "output_type": "stream",
     "text": [
      "[0 1 2 3 4 5 6 7 8] \n",
      "\n",
      "0 \n",
      "\n",
      "8 \n",
      "\n",
      "[1 2 3 4 5 6 7] \n",
      "\n",
      "[1 3 5 7] \n",
      "\n",
      "[8 7 6 5 4 3 2] \n",
      "\n",
      "[0 1 2 3 4 5 6 7 8] \n",
      "\n",
      "[0 1 2 3] \n",
      "\n",
      "[4 5 6 7 8] \n",
      "\n"
     ]
    }
   ],
   "source": [
    "np10 = np.arange(0,9)\n",
    "\n",
    "print(np10,'\\n')\n",
    "\n",
    "print(np10[0],'\\n')\n",
    "\n",
    "print(np10[8],'\\n')\n",
    "\n",
    "print(np10[1:8],'\\n')\n",
    "\n",
    "print(np10[1:8:2],'\\n')\n",
    "\n",
    "print(np10[8:1:-1],'\\n')\n",
    "\n",
    "print(np10[:],'\\n')\n",
    "\n",
    "print(np10[:4],'\\n')\n",
    "\n",
    "print(np10[4:],'\\n')"
   ]
  },
  {
   "cell_type": "code",
   "execution_count": 18,
   "metadata": {},
   "outputs": [
    {
     "name": "stdout",
     "output_type": "stream",
     "text": [
      "[[ 1  2  3  4]\n",
      " [ 5  6  7  8]\n",
      " [ 9 10 11 12]\n",
      " [13 14 15 16]\n",
      " [17 18 19 20]]\n",
      "[ 7 11] \n",
      "\n",
      "[[ 6  7]\n",
      " [10 11]] \n",
      "\n",
      "[[ 1  3]\n",
      " [ 9 11]\n",
      " [17 19]] \n",
      "\n",
      "[ 3  7 11 15 19] \n",
      "\n",
      "[5 6 7 8] \n",
      "\n",
      "[[ 1  2  3  4]\n",
      " [ 5  6  7  8]\n",
      " [ 9 10 11 12]\n",
      " [13 14 15 16]\n",
      " [17 18 19 20]] \n",
      "\n"
     ]
    }
   ],
   "source": [
    "np11 = np.arange(1,21).reshape(5,4)\n",
    "\n",
    "np11\n",
    "np11[0,2]\n",
    "np11[1,2]\n",
    "\n",
    "print(np11[1:3,2],'\\n')\n",
    "\n",
    "print(np11[1:3,1:3],'\\n')\n",
    "\n",
    "print(np11[::2,::2],'\\n')\n",
    "\n",
    "print(np11[:,2],'\\n')\n",
    "\n",
    "print(np11[1,:],'\\n')\n",
    "\n",
    "print(np11[:,:],'\\n')"
   ]
  },
  {
   "cell_type": "code",
   "execution_count": 24,
   "metadata": {},
   "outputs": [
    {
     "name": "stdout",
     "output_type": "stream",
     "text": [
      "1.產生2*3 0~1之間的隨機浮點數\n",
      " [[0.19229186 0.80617469 0.13866858]\n",
      " [0.683582   0.58847508 0.41027105]]\n",
      "2.產生2*3常態分佈的隨機浮點數\n",
      " [[-0.33266893  0.55803483 -0.79558898]\n",
      " [-0.01471921 -1.04444052  1.68007453]]\n",
      "3.產生0~4(不含5)隨機整數\n",
      " 1\n",
      "4.產生2~4(不含5)5個隨機整數\n",
      " [3 3 2 3 2]\n",
      "5.產生3個 0~1之間的隨機浮點數\n",
      " [0.73935559 0.10548337 0.61746113] \n",
      " [0.08604426 0.5952182  0.14171179] \n",
      " [0.71433176 0.24405065 0.63321744]\n"
     ]
    }
   ],
   "source": [
    "print('1.產生2*3 0~1之間的隨機浮點數\\n',\n",
    "      np.random.rand(2,3))\n",
    "print('2.產生2*3常態分佈的隨機浮點數\\n',\n",
    "      np.random.randn(2,3))\n",
    "print('3.產生0~4(不含5)隨機整數\\n',\n",
    "      np.random.randint(5))\n",
    "print('4.產生2~4(不含5)5個隨機整數\\n',\n",
    "      np.random.randint(2,5,[5]))\n",
    "print('5.產生3個 0~1之間的隨機浮點數\\n',\n",
    "      np.random.random(3),'\\n',\n",
    "      np.random.random_sample(3),'\\n',\n",
    "      np.random.sample(3))"
   ]
  },
  {
   "cell_type": "code",
   "execution_count": 27,
   "metadata": {},
   "outputs": [
    {
     "ename": "ValueError",
     "evalue": "Some errors were detected !\n    Line #35 (got 16 columns instead of 1)\n    Line #139 (got 4 columns instead of 1)\n    Line #170 (got 2 columns instead of 1)\n    Line #276 (got 3 columns instead of 1)\n    Line #295 (got 6 columns instead of 1)\n    Line #296 (got 3 columns instead of 1)\n    Line #319 (got 4 columns instead of 1)\n    Line #332 (got 4 columns instead of 1)\n    Line #345 (got 4 columns instead of 1)\n    Line #358 (got 4 columns instead of 1)\n    Line #371 (got 4 columns instead of 1)\n    Line #384 (got 4 columns instead of 1)\n    Line #397 (got 4 columns instead of 1)\n    Line #410 (got 4 columns instead of 1)\n    Line #428 (got 4 columns instead of 1)\n    Line #435 (got 4 columns instead of 1)\n    Line #444 (got 4 columns instead of 1)\n    Line #453 (got 4 columns instead of 1)\n    Line #479 (got 4 columns instead of 1)\n    Line #486 (got 4 columns instead of 1)\n    Line #493 (got 4 columns instead of 1)\n    Line #505 (got 4 columns instead of 1)\n    Line #512 (got 4 columns instead of 1)\n    Line #519 (got 4 columns instead of 1)\n    Line #531 (got 4 columns instead of 1)\n    Line #538 (got 4 columns instead of 1)\n    Line #545 (got 4 columns instead of 1)\n    Line #568 (got 4 columns instead of 1)\n    Line #575 (got 4 columns instead of 1)\n    Line #582 (got 4 columns instead of 1)\n    Line #589 (got 4 columns instead of 1)\n    Line #596 (got 4 columns instead of 1)\n    Line #603 (got 4 columns instead of 1)\n    Line #615 (got 4 columns instead of 1)\n    Line #624 (got 8 columns instead of 1)\n    Line #625 (got 3 columns instead of 1)\n    Line #633 (got 4 columns instead of 1)\n    Line #640 (got 4 columns instead of 1)\n    Line #665 (got 4 columns instead of 1)\n    Line #680 (got 4 columns instead of 1)\n    Line #696 (got 4 columns instead of 1)\n    Line #703 (got 4 columns instead of 1)\n    Line #710 (got 4 columns instead of 1)\n    Line #733 (got 4 columns instead of 1)\n    Line #751 (got 4 columns instead of 1)\n    Line #764 (got 4 columns instead of 1)\n    Line #777 (got 4 columns instead of 1)\n    Line #796 (got 3 columns instead of 1)\n    Line #818 (got 2 columns instead of 1)\n    Line #839 (got 5 columns instead of 1)\n    Line #1151 (got 2 columns instead of 1)\n    Line #1225 (got 2 columns instead of 1)\n    Line #1251 (got 6 columns instead of 1)\n    Line #1252 (got 3 columns instead of 1)\n    Line #1260 (got 6 columns instead of 1)\n    Line #1261 (got 3 columns instead of 1)\n    Line #1348 (got 2 columns instead of 1)\n    Line #1380 (got 6 columns instead of 1)\n    Line #1388 (got 6 columns instead of 1)\n    Line #1397 (got 6 columns instead of 1)\n    Line #1665 (got 248 columns instead of 1)\n    Line #1695 (got 2 columns instead of 1)\n    Line #1705 (got 3 columns instead of 1)\n    Line #1709 (got 3 columns instead of 1)\n    Line #1713 (got 3 columns instead of 1)\n    Line #1717 (got 3 columns instead of 1)\n    Line #1721 (got 3 columns instead of 1)\n    Line #1725 (got 3 columns instead of 1)",
     "output_type": "error",
     "traceback": [
      "\u001b[1;31m---------------------------------------------------------------------------\u001b[0m",
      "\u001b[1;31mValueError\u001b[0m                                Traceback (most recent call last)",
      "Cell \u001b[1;32mIn[27], line 3\u001b[0m\n\u001b[0;32m      1\u001b[0m \u001b[38;5;66;03m# 增加一個變數，將scores.csv匯入\u001b[39;00m\n\u001b[1;32m----> 3\u001b[0m np12 \u001b[38;5;241m=\u001b[39m np\u001b[38;5;241m.\u001b[39mgenfromtxt(\u001b[38;5;124m'\u001b[39m\u001b[38;5;124mscores.csv\u001b[39m\u001b[38;5;124m'\u001b[39m, delimiter\u001b[38;5;241m=\u001b[39m\u001b[38;5;124m'\u001b[39m\u001b[38;5;124m,\u001b[39m\u001b[38;5;124m'\u001b[39m,skip_header\u001b[38;5;241m=\u001b[39m\u001b[38;5;241m1\u001b[39m)\n\u001b[0;32m      5\u001b[0m \u001b[38;5;66;03m#用shape看一下檔案\u001b[39;00m\n\u001b[0;32m      7\u001b[0m \u001b[38;5;28mprint\u001b[39m(np12\u001b[38;5;241m.\u001b[39mshape)\n",
      "File \u001b[1;32mc:\\Users\\TKU-STAFF\\anaconda3\\Lib\\site-packages\\numpy\\lib\\npyio.py:2312\u001b[0m, in \u001b[0;36mgenfromtxt\u001b[1;34m(fname, dtype, comments, delimiter, skip_header, skip_footer, converters, missing_values, filling_values, usecols, names, excludelist, deletechars, replace_space, autostrip, case_sensitive, defaultfmt, unpack, usemask, loose, invalid_raise, max_rows, encoding, ndmin, like)\u001b[0m\n\u001b[0;32m   2310\u001b[0m \u001b[38;5;66;03m# Raise an exception ?\u001b[39;00m\n\u001b[0;32m   2311\u001b[0m \u001b[38;5;28;01mif\u001b[39;00m invalid_raise:\n\u001b[1;32m-> 2312\u001b[0m     \u001b[38;5;28;01mraise\u001b[39;00m \u001b[38;5;167;01mValueError\u001b[39;00m(errmsg)\n\u001b[0;32m   2313\u001b[0m \u001b[38;5;66;03m# Issue a warning ?\u001b[39;00m\n\u001b[0;32m   2314\u001b[0m \u001b[38;5;28;01melse\u001b[39;00m:\n\u001b[0;32m   2315\u001b[0m     warnings\u001b[38;5;241m.\u001b[39mwarn(errmsg, ConversionWarning, stacklevel\u001b[38;5;241m=\u001b[39m\u001b[38;5;241m2\u001b[39m)\n",
      "\u001b[1;31mValueError\u001b[0m: Some errors were detected !\n    Line #35 (got 16 columns instead of 1)\n    Line #139 (got 4 columns instead of 1)\n    Line #170 (got 2 columns instead of 1)\n    Line #276 (got 3 columns instead of 1)\n    Line #295 (got 6 columns instead of 1)\n    Line #296 (got 3 columns instead of 1)\n    Line #319 (got 4 columns instead of 1)\n    Line #332 (got 4 columns instead of 1)\n    Line #345 (got 4 columns instead of 1)\n    Line #358 (got 4 columns instead of 1)\n    Line #371 (got 4 columns instead of 1)\n    Line #384 (got 4 columns instead of 1)\n    Line #397 (got 4 columns instead of 1)\n    Line #410 (got 4 columns instead of 1)\n    Line #428 (got 4 columns instead of 1)\n    Line #435 (got 4 columns instead of 1)\n    Line #444 (got 4 columns instead of 1)\n    Line #453 (got 4 columns instead of 1)\n    Line #479 (got 4 columns instead of 1)\n    Line #486 (got 4 columns instead of 1)\n    Line #493 (got 4 columns instead of 1)\n    Line #505 (got 4 columns instead of 1)\n    Line #512 (got 4 columns instead of 1)\n    Line #519 (got 4 columns instead of 1)\n    Line #531 (got 4 columns instead of 1)\n    Line #538 (got 4 columns instead of 1)\n    Line #545 (got 4 columns instead of 1)\n    Line #568 (got 4 columns instead of 1)\n    Line #575 (got 4 columns instead of 1)\n    Line #582 (got 4 columns instead of 1)\n    Line #589 (got 4 columns instead of 1)\n    Line #596 (got 4 columns instead of 1)\n    Line #603 (got 4 columns instead of 1)\n    Line #615 (got 4 columns instead of 1)\n    Line #624 (got 8 columns instead of 1)\n    Line #625 (got 3 columns instead of 1)\n    Line #633 (got 4 columns instead of 1)\n    Line #640 (got 4 columns instead of 1)\n    Line #665 (got 4 columns instead of 1)\n    Line #680 (got 4 columns instead of 1)\n    Line #696 (got 4 columns instead of 1)\n    Line #703 (got 4 columns instead of 1)\n    Line #710 (got 4 columns instead of 1)\n    Line #733 (got 4 columns instead of 1)\n    Line #751 (got 4 columns instead of 1)\n    Line #764 (got 4 columns instead of 1)\n    Line #777 (got 4 columns instead of 1)\n    Line #796 (got 3 columns instead of 1)\n    Line #818 (got 2 columns instead of 1)\n    Line #839 (got 5 columns instead of 1)\n    Line #1151 (got 2 columns instead of 1)\n    Line #1225 (got 2 columns instead of 1)\n    Line #1251 (got 6 columns instead of 1)\n    Line #1252 (got 3 columns instead of 1)\n    Line #1260 (got 6 columns instead of 1)\n    Line #1261 (got 3 columns instead of 1)\n    Line #1348 (got 2 columns instead of 1)\n    Line #1380 (got 6 columns instead of 1)\n    Line #1388 (got 6 columns instead of 1)\n    Line #1397 (got 6 columns instead of 1)\n    Line #1665 (got 248 columns instead of 1)\n    Line #1695 (got 2 columns instead of 1)\n    Line #1705 (got 3 columns instead of 1)\n    Line #1709 (got 3 columns instead of 1)\n    Line #1713 (got 3 columns instead of 1)\n    Line #1717 (got 3 columns instead of 1)\n    Line #1721 (got 3 columns instead of 1)\n    Line #1725 (got 3 columns instead of 1)"
     ]
    }
   ],
   "source": [
    "# 增加一個變數，將scores.csv匯入\n",
    "\n",
    "np12 = np.genfromtxt('scores.csv', delimiter=',',skip_header=1)\n",
    "\n",
    "#用shape看一下檔案\n",
    "\n",
    "print(np12.shape)\n",
    "\n",
    "#呼叫NA\n",
    "\n",
    "np12"
   ]
  },
  {
   "cell_type": "code",
   "execution_count": null,
   "metadata": {},
   "outputs": [],
   "source": []
  }
 ],
 "metadata": {
  "kernelspec": {
   "display_name": "base",
   "language": "python",
   "name": "python3"
  },
  "language_info": {
   "codemirror_mode": {
    "name": "ipython",
    "version": 3
   },
   "file_extension": ".py",
   "mimetype": "text/x-python",
   "name": "python",
   "nbconvert_exporter": "python",
   "pygments_lexer": "ipython3",
   "version": "3.11.7"
  }
 },
 "nbformat": 4,
 "nbformat_minor": 2
}
