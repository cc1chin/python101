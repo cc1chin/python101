{
 "cells": [
  {
   "cell_type": "code",
   "execution_count": 4,
   "metadata": {},
   "outputs": [
    {
     "name": "stdout",
     "output_type": "stream",
     "text": [
      "Requirement already satisfied: pandas in c:\\users\\tku-staff\\anaconda3\\lib\\site-packages (2.1.4)\n",
      "Requirement already satisfied: numpy<2,>=1.23.2 in c:\\users\\tku-staff\\anaconda3\\lib\\site-packages (from pandas) (1.26.4)\n",
      "Requirement already satisfied: python-dateutil>=2.8.2 in c:\\users\\tku-staff\\anaconda3\\lib\\site-packages (from pandas) (2.8.2)\n",
      "Requirement already satisfied: pytz>=2020.1 in c:\\users\\tku-staff\\anaconda3\\lib\\site-packages (from pandas) (2023.3.post1)\n",
      "Requirement already satisfied: tzdata>=2022.1 in c:\\users\\tku-staff\\anaconda3\\lib\\site-packages (from pandas) (2023.3)\n",
      "Requirement already satisfied: six>=1.5 in c:\\users\\tku-staff\\anaconda3\\lib\\site-packages (from python-dateutil>=2.8.2->pandas) (1.16.0)\n",
      "Note: you may need to restart the kernel to use updated packages.\n"
     ]
    }
   ],
   "source": [
    "pip install pandas"
   ]
  },
  {
   "cell_type": "code",
   "execution_count": 10,
   "metadata": {},
   "outputs": [
    {
     "name": "stdout",
     "output_type": "stream",
     "text": [
      "       含量單位          含量描述                    成分名稱          許可證字號         含量  \\\n",
      "0        MG           200       UNDECYLENATE ZINC  內衛成製字第000012號   200.0000   \n",
      "1        MG            50        UNDECYLENIC ACID  內衛成製字第000012號    50.0000   \n",
      "2        GM            25                 MENTHOL  內衛成製字第000029號    25.0000   \n",
      "3        GM            10                 CAMPHOR  內衛成製字第000029號    10.0000   \n",
      "4        MG           500            SULFADIAZINE  內衛成製字第000030號   500.0000   \n",
      "...     ...           ...                     ...            ...        ...   \n",
      "125261   MG                             C-14 UREA  衛署藥輸字第R00085號     0.9500   \n",
      "125262    %  (99.0-101.0)               C-13 UREA  衛署藥輸字第R00086號              \n",
      "125263   MG                             C-13 UREA  衛署藥輸字第R00087號    75.0000   \n",
      "125264   MG                             C-13 UREA  衛署藥輸字第R00088號   100.0000   \n",
      "125265  MBq                YTTRIUM (90Y) CHLORIDE  衛署藥輸字第R00089號  1850.0000   \n",
      "\n",
      "              成分代碼                           處方標示  \n",
      "0       8404801510              EACH GM CONTAINS:  \n",
      "1       8404801500              EACH GM CONTAINS:  \n",
      "2       8408000300          EACH 100CC. CONTAINS:  \n",
      "3       8408000100          EACH 100CC. CONTAINS:  \n",
      "4       0824000700            EACH GRAM CONTAINS:  \n",
      "...            ...                            ...  \n",
      "125261  3668003900         EACH CAPSULE CONTAINS:  \n",
      "125262  3668003800                                 \n",
      "125263  3668003800          EACH TABLET CONTAINS：  \n",
      "125264  3668003800  EACH TABLET (100MG) CONTAINS：  \n",
      "125265  7804000620              Each ml contains：  \n",
      "\n",
      "[125266 rows x 7 columns]\n",
      "Series([], dtype: object)\n"
     ]
    }
   ],
   "source": [
    "import pandas as pd\n",
    "dataframe = pd.read_json('43_5.json')\n",
    "dt = pd.Series()\n",
    "print(dataframe)\n",
    "print(dt)"
   ]
  },
  {
   "cell_type": "code",
   "execution_count": null,
   "metadata": {},
   "outputs": [],
   "source": []
  }
 ],
 "metadata": {
  "kernelspec": {
   "display_name": "base",
   "language": "python",
   "name": "python3"
  },
  "language_info": {
   "codemirror_mode": {
    "name": "ipython",
    "version": 3
   },
   "file_extension": ".py",
   "mimetype": "text/x-python",
   "name": "python",
   "nbconvert_exporter": "python",
   "pygments_lexer": "ipython3",
   "version": "3.11.7"
  }
 },
 "nbformat": 4,
 "nbformat_minor": 2
}
